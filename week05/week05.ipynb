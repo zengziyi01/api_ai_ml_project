{
 "cells": [
  {
   "cell_type": "markdown",
   "id": "dff7f0a8",
   "metadata": {},
   "source": [
    "* week05\n",
    "* 记录人：曾子毅\n",
    "* 平台：百度AI开放平台"
   ]
  },
  {
   "cell_type": "markdown",
   "id": "362af3b2",
   "metadata": {},
   "source": [
    "# 百度AI开放平台"
   ]
  },
  {
   "cell_type": "markdown",
   "id": "60e5c894",
   "metadata": {},
   "source": [
    "* 接口描述\n",
    "> 该请求用于通用物体及场景识别，即对于输入的一张图片（可正常解码，且长宽比适宜），输出图片中的多个物体及场景标签。"
   ]
  },
  {
   "cell_type": "markdown",
   "id": "81b98abb",
   "metadata": {},
   "source": [
    "* HTTP 方法：post"
   ]
  },
  {
   "cell_type": "markdown",
   "id": "5aac0996",
   "metadata": {},
   "source": [
    "* 代码块"
   ]
  },
  {
   "cell_type": "code",
   "execution_count": 9,
   "id": "a53e33a7",
   "metadata": {},
   "outputs": [
    {
     "name": "stdout",
     "output_type": "stream",
     "text": [
      "{'refresh_token': '25.79ffa8994065cb48c463e97dc0fd1f0b.315360000.1963885159.282335-25863377', 'expires_in': 2592000, 'session_key': '9mzdDFfPIBDGfgBokBYdvCmc+gyi9MsOmzzwW2ETnLw8hhk7HO7c0QSGst+0JFYeMFrj5+HUNTOXnW7NFGmwmxlWyC9A5Q==', 'access_token': '24.7bfef6c146b6d9c1e884f764b60a3e27.2592000.1651117159.282335-25863377', 'scope': 'public vis-classify_dishes vis-classify_car brain_all_scope vis-classify_animal vis-classify_plant brain_object_detect brain_realtime_logo brain_dish_detect brain_car_detect brain_animal_classify brain_plant_classify brain_ingredient brain_advanced_general_classify brain_custom_dish brain_poi_recognize brain_vehicle_detect brain_redwine brain_currency brain_vehicle_damage brain_multi_ object_detect wise_adapt lebo_resource_base lightservice_public hetu_basic lightcms_map_poi kaidian_kaidian ApsMisTest_Test权限 vis-classify_flower lpq_开放 cop_helloScope ApsMis_fangdi_permission smartapp_snsapi_base smartapp_mapp_dev_manage iop_autocar oauth_tp_app smartapp_smart_game_openapi oauth_sessionkey smartapp_swanid_verify smartapp_opensource_openapi smartapp_opensource_recapi fake_face_detect_开放Scope vis-ocr_虚拟人物助理 idl-video_虚拟人物助理 smartapp_component smartapp_search_plugin avatar_video_test b2b_tp_openapi b2b_tp_openapi_online', 'session_secret': '8703e559c59f73782c687621dc46f3b7'}\n"
     ]
    }
   ],
   "source": [
    "# encoding:utf-8\n",
    "import requests \n",
    "\n",
    "# client_id 为官网获取的AK， client_secret 为官网获取的SK\n",
    "host = 'https://aip.baidubce.com/oauth/2.0/token?'\n",
    "payload = {\n",
    "    'grant_type':'client_credentials',\n",
    "    'client_id':'GkXetesMdrGDIBKkoTxeGNQr',\n",
    "    'client_secret':'rqM5VrYmQg5qlGmxu2z6KjkT5G0zh6vy'\n",
    "}\n",
    "response = requests.get(host,params=payload)\n",
    "if response:\n",
    "    print(response.json())"
   ]
  },
  {
   "cell_type": "markdown",
   "id": "b23ba564",
   "metadata": {},
   "source": [
    "## 图片检测"
   ]
  },
  {
   "cell_type": "code",
   "execution_count": 10,
   "id": "5bfba1c7",
   "metadata": {},
   "outputs": [
    {
     "data": {
      "text/plain": [
       "'24.7bfef6c146b6d9c1e884f764b60a3e27.2592000.1651117159.282335-25863377'"
      ]
     },
     "execution_count": 10,
     "metadata": {},
     "output_type": "execute_result"
    }
   ],
   "source": [
    "ziyi_AI = response.json()['access_token']\n",
    "ziyi_AI"
   ]
  },
  {
   "cell_type": "code",
   "execution_count": 12,
   "id": "62f3b581",
   "metadata": {},
   "outputs": [
    {
     "name": "stdout",
     "output_type": "stream",
     "text": [
      "{'error_code': 100, 'error_msg': 'Invalid parameter'}\n"
     ]
    }
   ],
   "source": [
    "# encoding:utf-8\n",
    "\n",
    "import requests\n",
    "import base64\n",
    "\n",
    "\n",
    "'''\n",
    "通用物体和场景识别\n",
    "'''\n",
    "\n",
    "request_url = \"https://aip.baidubce.com/rest/2.0/image-classify/v2/advanced_general\"\n",
    "# 二进制方式打开图片文件\n",
    "f = open('18d8bc3eb13533fa828ba3553982ea1f4134970aed35.webp', 'rb')\n",
    "img = base64.b64encode(f.read())\n",
    "params = {\"image\":img}\n",
    "\n",
    "payload={\n",
    "    'access_token':ziyi_AI,\n",
    "    'image':img\n",
    "}\n",
    "\n",
    "headers = {'content-type': 'application/x-www-form-urlencoded'}\n",
    "response = requests.post(request_url, data=params, headers=headers)\n",
    "if response:\n",
    "    print (response.json())\n",
    "\n",
    "    ## 报错原因：没给钱"
   ]
  }
 ],
 "metadata": {
  "kernelspec": {
   "display_name": "Python 3",
   "language": "python",
   "name": "python3"
  },
  "language_info": {
   "codemirror_mode": {
    "name": "ipython",
    "version": 3
   },
   "file_extension": ".py",
   "mimetype": "text/x-python",
   "name": "python",
   "nbconvert_exporter": "python",
   "pygments_lexer": "ipython3",
   "version": "3.8.8"
  }
 },
 "nbformat": 4,
 "nbformat_minor": 5
}
