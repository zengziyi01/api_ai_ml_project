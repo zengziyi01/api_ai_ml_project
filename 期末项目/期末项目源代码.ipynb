{
 "cells": [
  {
   "cell_type": "code",
   "execution_count": 1,
   "metadata": {},
   "outputs": [
    {
     "name": "stdout",
     "output_type": "stream",
     "text": [
      "{'refresh_token': '25.e111679f647ff493d45f40c55c7bfb2a.315360000.1971515492.282335-25863377', 'expires_in': 2592000, 'session_key': '9mzdDtNflyprjYT6eM6dUNILMf5ax8s8hOF36L8Sa4CAcZpFvvpExLfZbF01FYDPZPYL2nBmcmk+JEsmx4tfJf4HqWKnVQ==', 'access_token': '24.5ac21746565f8922cfbd8074fcce8cfd.2592000.1658747492.282335-25863377', 'scope': 'public vis-classify_dishes vis-classify_car brain_all_scope vis-classify_animal vis-classify_plant brain_object_detect brain_realtime_logo brain_dish_detect brain_car_detect brain_animal_classify brain_plant_classify brain_ingredient brain_advanced_general_classify brain_custom_dish brain_poi_recognize brain_vehicle_detect brain_redwine brain_currency brain_vehicle_damage brain_multi_ object_detect wise_adapt lebo_resource_base lightservice_public hetu_basic lightcms_map_poi kaidian_kaidian ApsMisTest_Test权限 vis-classify_flower lpq_开放 cop_helloScope ApsMis_fangdi_permission smartapp_snsapi_base smartapp_mapp_dev_manage iop_autocar oauth_tp_app smartapp_smart_game_openapi oauth_sessionkey smartapp_swanid_verify smartapp_opensource_openapi smartapp_opensource_recapi fake_face_detect_开放Scope vis-ocr_虚拟人物助理 idl-video_虚拟人物助理 smartapp_component smartapp_search_plugin avatar_video_test b2b_tp_openapi b2b_tp_openapi_online smartapp_gov_aladin_to_xcx', 'session_secret': '7c1540e1f91db189bfa7dbc853fd66fc'}\n"
     ]
    }
   ],
   "source": [
    "# encoding:utf-8\n",
    "import requests \n",
    "\n",
    "# client_id 为官网获取的AK， client_secret 为官网获取的SK\n",
    "host = 'https://aip.baidubce.com/oauth/2.0/token?'\n",
    "payload = {\n",
    "    'grant_type':'client_credentials',\n",
    "    'client_id':'GkXetesMdrGDIBKkoTxeGNQr',\n",
    "    'client_secret':'rqM5VrYmQg5qlGmxu2z6KjkT5G0zh6vy'\n",
    "}\n",
    "response = requests.get(host,params=payload)\n",
    "if response:\n",
    "    print(response.json())"
   ]
  },
  {
   "cell_type": "code",
   "execution_count": 2,
   "metadata": {},
   "outputs": [
    {
     "data": {
      "text/plain": [
       "'24.5ac21746565f8922cfbd8074fcce8cfd.2592000.1658747492.282335-25863377'"
      ]
     },
     "execution_count": 2,
     "metadata": {},
     "output_type": "execute_result"
    }
   ],
   "source": [
    "ziyi_AI = response.json()['access_token']\n",
    "ziyi_AI"
   ]
  },
  {
   "cell_type": "code",
   "execution_count": 3,
   "metadata": {
    "scrolled": true
   },
   "outputs": [
    {
     "name": "stdout",
     "output_type": "stream",
     "text": [
      "{'result': [{'score': 0.7598952, 'name': '玉蝉花', 'baike_info': {'baike_url': 'http://baike.baidu.com/item/%E7%8E%89%E8%9D%89%E8%8A%B1/2221688', 'image_url': 'https://bkimg.cdn.bcebos.com/pic/3bf33a87e950352a103995775743fbf2b2118b71', 'description': '玉蝉花(Iris ensata Thunb.)：多年生草本，植株基部围有叶鞘残留的纤维。根状茎粗壮，斜伸，外包有棕褐色叶鞘残留的纤维；须根绳索状，灰白色，有皱缩的横纹。叶条形，两面中脉明显。花茎圆柱形，实心，有1-3枚茎生叶；苞片3枚，近革质，披针形，内包含有2朵花；花深紫色，直径9-10厘米；外花被裂片倒卵形，内花被裂片小，直立，狭披针形或宽条形。蒴果长椭圆形，顶端有短喙，6条肋明显，成熟时自顶端向下开裂至1/3处；种子棕褐色，扁平，半圆形，边缘呈翅状。花期6-7月，果期8-9月。生于沼泽地或河岸的水湿地。产中国黑龙江、吉林、辽宁、山东、浙江，也产于朝鲜、日本及苏联。此花有栽培，具有较高的园艺价值。(概述图片参考资料来源：)'}}, {'score': 0.33954698, 'name': '鸢尾', 'baike_info': {'baike_url': 'http://baike.baidu.com/item/%E9%B8%A2%E5%B0%BE/784374', 'image_url': 'https://bkimg.cdn.bcebos.com/pic/5fdf8db1cb1349542259b6915c4e9258d0094afb', 'description': '鸢尾(学名：Iris tectorum Maxim.)又名：蓝蝴蝶、紫蝴蝶、扁竹花等，属百合目、鸢尾科、鸢尾属多年生草本，根状茎粗壮，直径约1cm，斜伸；叶长15~50cm，宽1.5~3.5cm，花蓝紫色，直径约10cm；蒴果长椭圆形或倒卵形，长4.5~6cm，直径2~2.5cm。原产于中国中部以及日本，主要分布在中国中南部。可供观赏，花香气淡雅，可以调制香水，其根状茎可作中药，全年可采，具有消炎作用。'}}, {'score': 0.06559799, 'name': '矮鸢尾', 'baike_info': {'baike_url': 'http://baike.baidu.com/item/%E7%9F%AE%E9%B8%A2%E5%B0%BE/551629', 'image_url': 'https://bkimg.cdn.bcebos.com/pic/5d6034a85edf8db162c8a12e0423dd54574e7492', 'description': '矮鸢尾(学名：Iris kobayashii)是属于鸢尾科鸢尾属的一种植物。是中国的特有植物。矮生草本，高约10厘米。茎极短，为叶片所包裹。叶剑形，长7~12厘米，宽6~10米。花葶从叶丛中伸出，着花1朵，花色繁多，有黄白、紫等色。花期4~5月。分布于中国大陆的辽宁等地，见于干燥的丘陵地，尚未由人工引种栽培。'}}, {'score': 0.060905267, 'name': '德国鸢尾', 'baike_info': {'baike_url': 'http://baike.baidu.com/item/%E5%BE%B7%E5%9B%BD%E9%B8%A2%E5%B0%BE/1193911', 'image_url': 'https://bkimg.cdn.bcebos.com/pic/a044ad345982b2b733f684a735adcbef76099b6c', 'description': '德国鸢尾(学名：Iris germanica L.)是鸢尾科鸢尾属植物，多年生草本。根状茎粗壮而肥厚，常分枝，扁圆形，斜伸，具环纹，黄褐色；须根肉质，黄白色。叶直立或略弯曲，淡绿色、灰绿色或深绿色，常具白粉，剑形。花茎光滑，黄绿色。花大，鲜艳，直径可达12厘米；花色因栽培品种而异，多为淡紫色、蓝紫色、深紫色或白色，有香味。蒴果三棱状圆柱形，顶端钝，无喙，成熟时自顶端向下开裂为三瓣；种子梨形，黄棕色，表面有皱纹，顶端生有黄白色的附属物。花期4-5月，果期6-8月。原产于欧洲中部和南部。中国各地庭园常见栽培。对土壤要求不严，抗旱、抗寒能力强。喜温暖、稍湿润和阳光充足环境。耐寒，耐干燥和半阴，怕积水。宜疏松、肥沃和排水良好的含石灰质土壤。德国鸢尾耐寒性强，生长健壮，有深紫、纯白、桃红、淡紫等颜色，是极好的观花地被植物，在园林绿化中常用于花坛、花境布置。同时，可盆栽观赏，也是重要的切花材料。(概述图参考来源：)'}}, {'score': 0.053501323, 'name': '花菖蒲', 'baike_info': {}}], 'log_id': 1540653926854896381}\n"
     ]
    }
   ],
   "source": [
    "## \n",
    "# encoding:utf-8\n",
    "\n",
    "import requests\n",
    "import base64\n",
    "\n",
    "'''\n",
    "植物识别\n",
    "'''\n",
    "\n",
    "request_url = \"https://aip.baidubce.com/rest/2.0/image-classify/v1/plant\"\n",
    "# 二进制方式打开图片文件\n",
    "f = open('yuanweihua.jpg', 'rb')\n",
    "img = base64.b64encode(f.read())\n",
    "\n",
    "payload={\n",
    "    'access_token':'24.f5701fd8c3bdfef7c58d16fff0e8b8e2.2592000.1658743582.282335-25863377',\n",
    "    'image':img,\n",
    "    'baike_num':5,\n",
    "    \"top_num\":5\n",
    "}\n",
    "\n",
    "\n",
    "headers = {'content-type': 'application/x-www-form-urlencoded'}\n",
    "response = requests.post(request_url, data=payload, headers=headers)\n",
    "if response:\n",
    "    print (response.json())"
   ]
  },
  {
   "cell_type": "code",
   "execution_count": null,
   "metadata": {},
   "outputs": [],
   "source": []
  },
  {
   "cell_type": "code",
   "execution_count": null,
   "metadata": {},
   "outputs": [],
   "source": []
  }
 ],
 "metadata": {
  "kernelspec": {
   "display_name": "Python 3",
   "language": "python",
   "name": "python3"
  },
  "language_info": {
   "codemirror_mode": {
    "name": "ipython",
    "version": 3
   },
   "file_extension": ".py",
   "mimetype": "text/x-python",
   "name": "python",
   "nbconvert_exporter": "python",
   "pygments_lexer": "ipython3",
   "version": "3.7.0"
  }
 },
 "nbformat": 4,
 "nbformat_minor": 2
}
