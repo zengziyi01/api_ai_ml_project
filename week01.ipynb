{
 "cells": [
  {
   "cell_type": "markdown",
   "id": "aac02521",
   "metadata": {},
   "source": [
    "* WEEK01\n",
    "* 记录人：曾子毅\n",
    "-------"
   ]
  },
  {
   "cell_type": "markdown",
   "id": "fd1eb6be",
   "metadata": {},
   "source": [
    "# 课程介绍：API AI ML"
   ]
  },
  {
   "cell_type": "markdown",
   "id": "9790e220",
   "metadata": {},
   "source": [
    "## 1.ABOUT API"
   ]
  },
  {
   "cell_type": "markdown",
   "id": "f916b131",
   "metadata": {},
   "source": [
    "### （1）API术语\n",
    "* (HTTP) Requests and Responses： HTTP请求和响应\n",
    "* REST：以资源为中心设计的互联系统表达型式\n",
    "* (HTTP) Methods：HTTP方法\n",
    "* (API) Endpoints：API端点\n",
    "* API documentation：API文档\n",
    "* API calls：API调用\n",
    "* (HTTP) Payloads：HTTP酬载\n",
    "* (HTTP) Response codes：HTTP响应状态码\n",
    "* (HTTP) Headers：HTTP首部\n",
    "* Authentication：认证"
   ]
  },
  {
   "cell_type": "markdown",
   "id": "b213a9b6",
   "metadata": {},
   "source": [
    "### (2) HTTP请求和响应\n",
    "##### (HTTP) Requests and Responses (HTTP请求和响应)，指的是HTTP协议中，用于客户端和服务器端之间的通信。HTTP协议通过请求和响应的交换达成通信。\n",
    "* 请求访问资源的一端称为客户端 (client side)\n",
    "* 提供资源响应的一端称为服务器端 (server side)\n",
    "* 请求必定由客户端发出，而服务器端回复响应\n",
    "* HTTP 是不保存状态，即无状态（stateless）的协议\n",
    "* Web网页及API都使用HTTP协议\n",
    "* API使用HTTP请求和响应用例：\n",
    "* 向Spotify API发送请求(Requests)，告诉Spotify我想要检索哪个专辑，使用某专辑ID请求歌曲列表\n",
    "* Spotify响应(Responses)，以'JSON'语言的数据格式响应某专辑中的歌曲列表\n",
    "* API文档应明白交待，请求应该是什么，以及对映的响应中期待回传结果是什么。"
   ]
  },
  {
   "cell_type": "markdown",
   "id": "d6dc964a",
   "metadata": {},
   "source": [
    "### （3）HTTP方法\n",
    "\n",
    "\n",
    "> REST API都使用相同的HTTP方法：\n",
    ">> 1. POST\n",
    ">> 2. GET\n",
    ">> 3. PUT\n",
    ">> 4. PATCH\n",
    ">> 5. DELETE\n",
    "\n",
    "最常用的HTTP方法是创建(create)，读取(read)，更新(update)和删除(delete)信息，这4常见方法的首字母缩略词为CRUD\n",
    "产品人员最常用的方法是POST和GET，它允许您创建或读取和检索信息。\n",
    "GET很简单，被认为是所有方法中最安全的，因为它不会更新任何信息。\n",
    "\n",
    "> HTTP方法的摘要：\n",
    ">> 1. GET\n",
    "用于读取/检索资源\n",
    "执行GET方法时，响应包含您请求的信息。\n",
    "GET请求仅用于读取数据而不是更改数据。这意味着它们被认为是安全的。\n",
    ">> 2. POST\n",
    "用于创建新资源。\n",
    "例如，如果我们想使用Twilio API创建新的文本消息，我们将使用POST方法，因为这是您创建新资源的方式（资源是文本消息）。\n",
    ">> 3. PUT\n",
    "用于更新/替换资源。\n",
    "例如，更新用户的电子邮件地址。\n",
    ">> 4. DELETE\n",
    "用于删除数据。"
   ]
  },
  {
   "cell_type": "markdown",
   "id": "51f13b72",
   "metadata": {},
   "source": [
    "## 2.ABOUUT AI"
   ]
  },
  {
   "cell_type": "markdown",
   "id": "73e485ab",
   "metadata": {},
   "source": [
    "> 1. 人工智能\n",
    ">> 1. 计算机视觉\n",
    ">>> 1. 图像识别\n",
    ">>> 2. 人脸识别\n",
    ">> 1. 自然语言处理\n",
    ">>>1. 语音识别\n",
    ">>>2. 语音合成\n",
    ">>3. 认知与推理——机器学习"
   ]
  },
  {
   "cell_type": "markdown",
   "id": "c6493396",
   "metadata": {},
   "source": [
    "## 3. ABOUT ML"
   ]
  },
  {
   "cell_type": "markdown",
   "id": "b790ae3d",
   "metadata": {},
   "source": [
    "####  定义：机器学习，是研究计算机怎样模拟或实现人类的学习行为，以获取新的知识或技能，重新组织已有的知识结构使之不断改善自身的性能。"
   ]
  }
 ],
 "metadata": {
  "kernelspec": {
   "display_name": "Python 3",
   "language": "python",
   "name": "python3"
  },
  "language_info": {
   "codemirror_mode": {
    "name": "ipython",
    "version": 3
   },
   "file_extension": ".py",
   "mimetype": "text/x-python",
   "name": "python",
   "nbconvert_exporter": "python",
   "pygments_lexer": "ipython3",
   "version": "3.8.8"
  }
 },
 "nbformat": 4,
 "nbformat_minor": 5
}
